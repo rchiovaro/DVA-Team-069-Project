{
 "cells": [
  {
   "cell_type": "code",
   "execution_count": 18,
   "id": "15e8bc98",
   "metadata": {},
   "outputs": [],
   "source": [
    "import pandas as pd\n",
    "from sportsreference.mlb.teams import Teams as MLBTeams\n",
    "from sportsreference.nfl.teams import Teams as NFLTeams\n",
    "from sportsreference.nhl.teams import Teams as NHLTeams"
   ]
  },
  {
   "cell_type": "code",
   "execution_count": 37,
   "id": "39e93cfc",
   "metadata": {
    "scrolled": true
   },
   "outputs": [],
   "source": [
    "MLB17 = MLBTeams(\"2017\").dataframes\n",
    "MLB17 = MLB17.assign(Season=['2017'] * 30)\n",
    "MLB18 = MLBTeams(\"2018\").dataframes\n",
    "MLB18= MLB18.assign(Season=['2018'] * 30)\n",
    "MLB19 = MLBTeams(\"2019\").dataframes\n",
    "MLB19 = MLB19.assign(Season=['2019'] * 30)\n",
    "MLB = [MLB17, MLB18, MLB19]\n",
    "MLB = pd.concat(MLB)"
   ]
  },
  {
   "cell_type": "code",
   "execution_count": 33,
   "id": "da8b70ba",
   "metadata": {},
   "outputs": [],
   "source": [
    "NFL17 = NFLTeams(\"2017\").dataframes\n",
    "NFL17 = NFL17.assign(Season=['2017'] * 32)\n",
    "NFL18 = NFLTeams(\"2018\").dataframes\n",
    "NFL18 = NFL18.assign(Season=['2018'] * 32)\n",
    "NFL19 = NFLTeams(\"2019\").dataframes\n",
    "NFL19 = NFL19.assign(Season=['2019'] * 32)\n",
    "NFL = [NFL17, NFL18, NFL19]\n",
    "NFL = pd.concat(NFL)"
   ]
  },
  {
   "cell_type": "code",
   "execution_count": 36,
   "id": "88a0bd51",
   "metadata": {},
   "outputs": [],
   "source": [
    "NHL17 = NHLTeams(\"2017\").dataframes\n",
    "NHL17 = NHL17.assign(Season=['2017'] * 30)\n",
    "NHL18 = NHLTeams(\"2018\").dataframes\n",
    "NHL18 = NHL18.assign(Season=['2018'] * 31)\n",
    "NHL19 = NHLTeams(\"2019\").dataframes\n",
    "NHL19 = NHL19.assign(Season=['2019'] * 31)\n",
    "NHL = [NHL17, NHL18, NHL19]\n",
    "NHL = pd.concat(NHL)"
   ]
  }
 ],
 "metadata": {
  "kernelspec": {
   "display_name": "Python 3 (ipykernel)",
   "language": "python",
   "name": "python3"
  },
  "language_info": {
   "codemirror_mode": {
    "name": "ipython",
    "version": 3
   },
   "file_extension": ".py",
   "mimetype": "text/x-python",
   "name": "python",
   "nbconvert_exporter": "python",
   "pygments_lexer": "ipython3",
   "version": "3.10.4"
  }
 },
 "nbformat": 4,
 "nbformat_minor": 5
}

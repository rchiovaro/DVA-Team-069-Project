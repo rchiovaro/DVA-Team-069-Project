{
 "cells": [
  {
   "cell_type": "code",
   "execution_count": 2,
   "id": "27874c88",
   "metadata": {},
   "outputs": [],
   "source": [
    "from sklearn.metrics import accuracy_score\n",
    "from sklearn.linear_model import LinearRegression\n",
    "import numpy as np"
   ]
  },
  {
   "cell_type": "markdown",
   "id": "9a40f033",
   "metadata": {},
   "source": [
    "# Read in Data"
   ]
  },
  {
   "cell_type": "code",
   "execution_count": 3,
   "id": "da7cfe4b",
   "metadata": {},
   "outputs": [
    {
     "name": "stdout",
     "output_type": "stream",
     "text": [
      "field_goal_percentage\n",
      "(0.4108217029858827, 5.770790700932277e-05)\n",
      "--------------------\n",
      "opp_defensive_rebounds\n",
      "(-0.4020568981009735, 8.56415288065974e-05)\n",
      "--------------------\n",
      "opp_field_goal_percentage\n",
      "(-0.43353894761032724, 1.9683540812484233e-05)\n",
      "--------------------\n",
      "opp_three_point_field_goals\n",
      "(-0.41061671206255884, 5.825051567272131e-05)\n",
      "--------------------\n",
      "opp_two_point_field_goal_percentage\n",
      "(-0.44225511626329284, 1.2758623050835261e-05)\n",
      "--------------------\n",
      "two_point_field_goal_percentage\n",
      "(0.40956845115249607, 6.110024595107985e-05)\n",
      "--------------------\n",
      "W\n",
      "(1.0, 0.0)\n",
      "--------------------\n"
     ]
    },
    {
     "name": "stderr",
     "output_type": "stream",
     "text": [
      "/Library/Frameworks/Python.framework/Versions/3.7/lib/python3.7/site-packages/scipy/stats/stats.py:4023: PearsonRConstantInputWarning: An input array is constant; the correlation coefficient is not defined.\n",
      "  warnings.warn(PearsonRConstantInputWarning())\n"
     ]
    }
   ],
   "source": [
    "%run \"Data Collection and Cleaning.ipynb\""
   ]
  },
  {
   "cell_type": "code",
   "execution_count": 4,
   "id": "091605a0",
   "metadata": {},
   "outputs": [
    {
     "name": "stdout",
     "output_type": "stream",
     "text": [
      "Index(['assists', 'blocks', 'defensive_rebounds', 'field_goal_attempts',\n",
      "       'field_goal_percentage', 'field_goals', 'free_throw_attempts',\n",
      "       'free_throw_percentage', 'free_throws', 'games_played',\n",
      "       'minutes_played', 'offensive_rebounds', 'opp_assists', 'opp_blocks',\n",
      "       'opp_defensive_rebounds', 'opp_field_goal_attempts',\n",
      "       'opp_field_goal_percentage', 'opp_field_goals',\n",
      "       'opp_free_throw_attempts', 'opp_free_throw_percentage',\n",
      "       'opp_free_throws', 'opp_offensive_rebounds', 'opp_personal_fouls',\n",
      "       'opp_points', 'opp_steals', 'opp_three_point_field_goal_attempts',\n",
      "       'opp_three_point_field_goal_percentage', 'opp_three_point_field_goals',\n",
      "       'opp_total_rebounds', 'opp_turnovers',\n",
      "       'opp_two_point_field_goal_attempts',\n",
      "       'opp_two_point_field_goal_percentage', 'opp_two_point_field_goals',\n",
      "       'personal_fouls', 'points', 'rank', 'steals',\n",
      "       'three_point_field_goal_attempts', 'three_point_field_goal_percentage',\n",
      "       'three_point_field_goals', 'total_rebounds', 'turnovers',\n",
      "       'two_point_field_goal_attempts', 'two_point_field_goal_percentage',\n",
      "       'two_point_field_goals', 'Season', 'W', 'L', 'W/L%', 'PS/G', 'PA/G',\n",
      "       'SRS'],\n",
      "      dtype='object')\n"
     ]
    }
   ],
   "source": [
    "#create dataframe with the high correlation columns, and split up into train and test data\n",
    "all_var_df = df_merged.copy().drop(columns=[\"name\",\"abbreviation\"])\n",
    "\n",
    "print(all_var_df.columns)\n",
    "\n",
    "train_data_set = all_var_df[all_var_df[\"Season\"] < 2019].drop(columns=[\"Season\"])\n",
    "y_train = train_data_set['W'].squeeze()\n",
    "x_train = train_data_set.drop(columns=['W'])\n",
    "\n",
    "test_data_set = all_var_df[all_var_df[\"Season\"] == 2019].drop(columns=[\"Season\"])\n",
    "y_test = test_data_set['W'].squeeze()\n",
    "x_test = test_data_set.drop(columns=['W'])\n",
    "\n"
   ]
  },
  {
   "cell_type": "code",
   "execution_count": 5,
   "id": "b5a93a5f",
   "metadata": {},
   "outputs": [],
   "source": [
    "#Train Linear Rregression Model\n",
    "regr = LinearRegression().fit(x_train, y_train)\n",
    "\n",
    "y_predict_train = regr.predict(x_train)\n",
    "y_predict_test = regr.predict(x_test)"
   ]
  },
  {
   "cell_type": "markdown",
   "id": "576fb081",
   "metadata": {},
   "source": [
    "Since sklearn accuracy function is based on exact matches, we will test against a window of accuracy. For instance, if we are looking for an exact match, then the window will be 0. If we look for a window of 2, and the actual number of wins is 70, then it will be considered accurate between 68 and 72"
   ]
  },
  {
   "cell_type": "code",
   "execution_count": 6,
   "id": "c3f0919a",
   "metadata": {},
   "outputs": [],
   "source": [
    "def calc_accuracy_rate(match_bool):\n",
    "    true_count = 0\n",
    "    total_matches = len(match_bool)\n",
    "    for match in match_bool:\n",
    "        if match:\n",
    "            true_count += 1\n",
    "\n",
    "    return true_count / total_matches"
   ]
  },
  {
   "cell_type": "code",
   "execution_count": 7,
   "id": "89cee837",
   "metadata": {},
   "outputs": [],
   "source": [
    "#Read linear Regression Model's Accuracy\n",
    "def get_accuracy(num_wins_window, y_predict):\n",
    "    # if number of wins predicted is within 5 of the actual number of wins \n",
    "    # then this will be marked as a \"success\"\n",
    "    # (for example if actual number of wins is 65, \"correct window\" is 60-70)\n",
    "    # this can easily be adjusted based on the users desired level of accuracy\n",
    "\n",
    "    round_y_predict = []\n",
    "\n",
    "    for i,y in enumerate(y_predict):\n",
    "        wins_diff = abs(y - y_train[i])\n",
    "        \n",
    "        if wins_diff <= num_wins_window:\n",
    "            match = True\n",
    "        else:\n",
    "            match = False\n",
    "        round_y_predict.append(match)\n",
    "\n",
    "        \n",
    "    # round_y_predict_arr = np.array(round_y_predict)\n",
    "    train_accuracy = calc_accuracy_rate(round_y_predict)\n",
    "\n",
    "    return train_accuracy\n",
    "\n",
    "\n"
   ]
  },
  {
   "cell_type": "code",
   "execution_count": 8,
   "id": "6c982f57",
   "metadata": {},
   "outputs": [
    {
     "name": "stdout",
     "output_type": "stream",
     "text": [
      "Exact Accuracy: 0.11666666666666667\n",
      "Rate of correct wins within 1: 1.0\n"
     ]
    }
   ],
   "source": [
    "train_accuracy_0 = get_accuracy(0,y_predict_train)\n",
    "print(\"Exact Accuracy:\",train_accuracy_0)\n",
    "\n",
    "train_accuracy_1 = get_accuracy(1,y_predict_train)\n",
    "print(\"Rate of correct wins within 1:\", train_accuracy_1)\n",
    "\n"
   ]
  },
  {
   "cell_type": "markdown",
   "id": "48e124f8",
   "metadata": {},
   "source": [
    "The rate is at 100% within a window of 1. While exciting, this is not definitive since this is also the set we trained the dataset on. so our next step will be to compare to the test dataset."
   ]
  },
  {
   "cell_type": "code",
   "execution_count": 15,
   "id": "24371b05",
   "metadata": {},
   "outputs": [
    {
     "name": "stdout",
     "output_type": "stream",
     "text": [
      "Exact Accuracy: 0.0\n",
      "Rate of correct wins within 1: 0.03333333333333333\n",
      "Rate of correct wins within 3: 0.13333333333333333\n",
      "Rate of correct wins within 5: 0.16666666666666666\n",
      "Rate of correct wins within 10: 0.36666666666666664\n",
      "Rate of correct wins within 20: 0.8333333333333334\n"
     ]
    }
   ],
   "source": [
    "test_accuracy_0 = get_accuracy(0,y_predict_test)\n",
    "print(\"Exact Accuracy:\",test_accuracy_0)\n",
    "\n",
    "test_accuracy_1 = get_accuracy(1,y_predict_test)\n",
    "print(\"Rate of correct wins within 1:\", test_accuracy_1)\n",
    "\n",
    "test_accuracy_3 = get_accuracy(3,y_predict_test)\n",
    "print(\"Rate of correct wins within 3:\", test_accuracy_3)\n",
    "\n",
    "test_accuracy_5 = get_accuracy(5,y_predict_test)\n",
    "print(\"Rate of correct wins within 5:\", test_accuracy_5)\n",
    "\n",
    "test_accuracy_10 = get_accuracy(10, y_predict_test)\n",
    "print(\"Rate of correct wins within 10:\", test_accuracy_10)\n"
   ]
  }
 ],
 "metadata": {
  "kernelspec": {
   "display_name": "Python 3 (ipykernel)",
   "language": "python",
   "name": "python3"
  },
  "language_info": {
   "codemirror_mode": {
    "name": "ipython",
    "version": 3
   },
   "file_extension": ".py",
   "mimetype": "text/x-python",
   "name": "python",
   "nbconvert_exporter": "python",
   "pygments_lexer": "ipython3",
   "version": "3.7.2"
  }
 },
 "nbformat": 4,
 "nbformat_minor": 5
}

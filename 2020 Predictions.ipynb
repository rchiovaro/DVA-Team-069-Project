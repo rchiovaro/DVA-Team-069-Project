{
 "cells": [
  {
   "cell_type": "code",
   "execution_count": 1,
   "id": "27874c88",
   "metadata": {},
   "outputs": [],
   "source": [
    "from sklearn.metrics import accuracy_score\n",
    "import numpy as np"
   ]
  },
  {
   "cell_type": "markdown",
   "id": "9a40f033",
   "metadata": {},
   "source": [
    "# Read in Models"
   ]
  },
  {
   "cell_type": "code",
   "execution_count": 2,
   "id": "f1b4721b",
   "metadata": {},
   "outputs": [
    {
     "name": "stdout",
     "output_type": "stream",
     "text": [
      "Training Accuracy based on rounded:  1.0\n",
      "Test Accuracy based on rounded:  1.0\n",
      "Exact Accuracy: 1.0\n",
      "Rate of correct wins within 1: 1.0\n",
      "Exact Accuracy: 1.0\n",
      "Rate of correct wins within 1: 1.0\n"
     ]
    },
    {
     "name": "stderr",
     "output_type": "stream",
     "text": [
      "/Library/Frameworks/Python.framework/Versions/3.7/lib/python3.7/site-packages/scipy/stats/stats.py:4023: PearsonRConstantInputWarning: An input array is constant; the correlation coefficient is not defined.\n",
      "  warnings.warn(PearsonRConstantInputWarning())\n"
     ]
    }
   ],
   "source": [
    "%run \"Rank Prediction High Corr Variables.ipynb\""
   ]
  },
  {
   "cell_type": "code",
   "execution_count": 3,
   "id": "dd9cd6d3",
   "metadata": {},
   "outputs": [
    {
     "name": "stdout",
     "output_type": "stream",
     "text": [
      "Training Accuracy based on rounded:  1.0\n",
      "Test Accuracy based on rounded:  1.0\n",
      "Exact Accuracy: 0.16417910447761194\n",
      "Rate of correct wins within 1: 1.0\n",
      "Exact Accuracy: 0.13043478260869565\n",
      "Rate of correct wins within 1: 1.0\n"
     ]
    },
    {
     "name": "stderr",
     "output_type": "stream",
     "text": [
      "/Library/Frameworks/Python.framework/Versions/3.7/lib/python3.7/site-packages/scipy/stats/stats.py:4023: PearsonRConstantInputWarning: An input array is constant; the correlation coefficient is not defined.\n",
      "  warnings.warn(PearsonRConstantInputWarning())\n"
     ]
    }
   ],
   "source": [
    "%run \"Win Prediction High Corr Variables.ipynb\""
   ]
  },
  {
   "cell_type": "code",
   "execution_count": 4,
   "id": "091605a0",
   "metadata": {},
   "outputs": [],
   "source": [
    "rank_y_data = df_merged_2020_data[\"rank\"].values.reshape(-1, 1)\n",
    "rank_x_data = df_merged_2020_data[high_corr_rank_cols].set_index(['abbreviation', 'Season'])\n",
    "\n",
    "win_y_data = df_merged_2020_data[\"W\"].values.reshape(-1, 1)\n",
    "win_x_data = df_merged_2020_data[high_corr_win_cols].set_index(['abbreviation', 'Season'])"
   ]
  },
  {
   "cell_type": "code",
   "execution_count": 5,
   "id": "b5a93a5f",
   "metadata": {},
   "outputs": [],
   "source": [
    "rank_y_predict = rank_regr.predict(rank_x_data)\n",
    "win_y_predict = win_regr.predict(win_x_data)"
   ]
  },
  {
   "cell_type": "code",
   "execution_count": 6,
   "id": "cde61909",
   "metadata": {},
   "outputs": [],
   "source": [
    "def rounded_accuracy(y_actual, y_pred):\n",
    "    round_y_predict = []\n",
    "\n",
    "    for y in y_pred:\n",
    "        rounded_y = round(float(y))\n",
    "        round_y_predict.append(rounded_y)\n",
    "        \n",
    "    round_y_predict_arr = np.array(round_y_predict)\n",
    "    accuracy_sc = accuracy_score(y_actual, round_y_predict_arr)\n",
    "\n",
    "    return accuracy_sc"
   ]
  },
  {
   "cell_type": "code",
   "execution_count": 7,
   "id": "dc06e267",
   "metadata": {},
   "outputs": [
    {
     "name": "stdout",
     "output_type": "stream",
     "text": [
      "Accuracy based on rounded Ranks:  1.0\n"
     ]
    }
   ],
   "source": [
    "rank_accuracy = rounded_accuracy(rank_y_data,rank_y_predict)\n",
    "print(\"Accuracy based on rounded Ranks: \",rank_accuracy)"
   ]
  },
  {
   "cell_type": "code",
   "execution_count": 8,
   "id": "1603f80e",
   "metadata": {},
   "outputs": [
    {
     "name": "stdout",
     "output_type": "stream",
     "text": [
      "Accuracy based on rounded Wins:  1.0\n"
     ]
    }
   ],
   "source": [
    "win_accuracy = rounded_accuracy(win_y_data,win_y_predict)\n",
    "print(\"Accuracy based on rounded Wins: \",win_accuracy)"
   ]
  }
 ],
 "metadata": {
  "kernelspec": {
   "display_name": "Python 3 (ipykernel)",
   "language": "python",
   "name": "python3"
  },
  "language_info": {
   "codemirror_mode": {
    "name": "ipython",
    "version": 3
   },
   "file_extension": ".py",
   "mimetype": "text/x-python",
   "name": "python",
   "nbconvert_exporter": "python",
   "pygments_lexer": "ipython3",
   "version": "3.7.2"
  }
 },
 "nbformat": 4,
 "nbformat_minor": 5
}

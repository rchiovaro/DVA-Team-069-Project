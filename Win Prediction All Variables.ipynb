{
 "cells": [
  {
   "cell_type": "code",
   "execution_count": 1,
   "id": "27874c88",
   "metadata": {},
   "outputs": [],
   "source": [
    "from sklearn.metrics import accuracy_score\n",
    "from sklearn.linear_model import LinearRegression\n",
    "from sklearn.model_selection import train_test_split\n",
    "import numpy as np"
   ]
  },
  {
   "cell_type": "markdown",
   "id": "9a40f033",
   "metadata": {},
   "source": [
    "# Read in Data"
   ]
  },
  {
   "cell_type": "code",
   "execution_count": 2,
   "id": "da7cfe4b",
   "metadata": {},
   "outputs": [
    {
     "name": "stderr",
     "output_type": "stream",
     "text": [
      "C:\\Users\\davis\\miniconda3\\lib\\site-packages\\scipy\\stats\\stats.py:4023: PearsonRConstantInputWarning: An input array is constant; the correlation coefficient is not defined.\n",
      "  warnings.warn(PearsonRConstantInputWarning())\n"
     ]
    }
   ],
   "source": [
    "%run \"Data Collection and Cleaning.ipynb\""
   ]
  },
  {
   "cell_type": "code",
   "execution_count": 3,
   "id": "091605a0",
   "metadata": {},
   "outputs": [],
   "source": [
    "#create dataframe with the high correlation columns, and split up into train and test data\n",
    "all_var_df = df_merged_train_data.copy()\n",
    "\n",
    "y_data = all_var_df[\"W\"].values.reshape(-1, 1)\n",
    "x_data = all_var_df[[\"abbreviation\",\"Season\",\"assists\", 'defensive_rebounds','field_goal_percentage',\\\n",
    "        'field_goals','opp_assists', 'opp_blocks','opp_defensive_rebounds', 'opp_field_goal_percentage',\\\n",
    "        'opp_points','opp_three_point_field_goal_percentage','opp_total_rebounds','opp_two_point_field_goal_percentage',\\\n",
    "        'points', 'three_point_field_goal_percentage', 'total_rebounds','two_point_field_goal_percentage']]\\\n",
    "        .set_index(['abbreviation', 'Season'])\n",
    "\n",
    "\n",
    "x_train, x_test, y_train, y_test = train_test_split(x_data, y_data, random_state = 42)\n",
    "\n"
   ]
  },
  {
   "cell_type": "code",
   "execution_count": 4,
   "id": "b5a93a5f",
   "metadata": {},
   "outputs": [],
   "source": [
    "#Train Linear Rregression Model\n",
    "regr = LinearRegression().fit(x_train, y_train)\n",
    "\n",
    "y_predict_train = regr.predict(x_train)\n",
    "y_predict_test = regr.predict(x_test)"
   ]
  },
  {
   "cell_type": "markdown",
   "id": "576fb081",
   "metadata": {},
   "source": [
    "Since sklearn accuracy function is based on exact matches, it is tough to use the accuracy_score function since it will compare a decimal to an integer. So we will test in two different ways. The first test will be by rounding to the nearest integer, and comparing that result using the accuracy score. The seconcd test will be to get the rate of wins within X of the true value, where X is user defined."
   ]
  },
  {
   "cell_type": "markdown",
   "id": "ddf71443",
   "metadata": {},
   "source": [
    "Test #1"
   ]
  },
  {
   "cell_type": "code",
   "execution_count": 5,
   "id": "714a7a5d",
   "metadata": {},
   "outputs": [],
   "source": [
    "def rounded_accuracy(y_actual, y_pred):\n",
    "    round_y_predict = []\n",
    "\n",
    "    for y in y_pred:\n",
    "        rounded_y = round(float(y))\n",
    "        round_y_predict.append(rounded_y)\n",
    "        \n",
    "    round_y_predict_arr = np.array(round_y_predict)\n",
    "    accuracy_sc = accuracy_score(y_actual, round_y_predict_arr)\n",
    "\n",
    "    return accuracy_sc"
   ]
  },
  {
   "cell_type": "code",
   "execution_count": 6,
   "id": "ace931fa",
   "metadata": {},
   "outputs": [
    {
     "name": "stdout",
     "output_type": "stream",
     "text": [
      "Training Accuracy based on rounded:  0.05970149253731343\n",
      "Test Accuracy based on rounded:  0.0\n"
     ]
    }
   ],
   "source": [
    "train_accuracy = rounded_accuracy(y_train,y_predict_train)\n",
    "print(\"Training Accuracy based on rounded: \",train_accuracy)\n",
    "\n",
    "test_accuracy = rounded_accuracy(y_test,y_predict_test)\n",
    "print(\"Test Accuracy based on rounded: \",test_accuracy)"
   ]
  },
  {
   "cell_type": "markdown",
   "id": "93f3c543",
   "metadata": {},
   "source": [
    "Test #2"
   ]
  },
  {
   "cell_type": "code",
   "execution_count": 7,
   "id": "c3f0919a",
   "metadata": {},
   "outputs": [],
   "source": [
    "def calc_accuracy_rate(match_bool):\n",
    "    true_count = 0\n",
    "    total_matches = len(match_bool)\n",
    "    for match in match_bool:\n",
    "        if match:\n",
    "            true_count += 1\n",
    "\n",
    "    return true_count / total_matches"
   ]
  },
  {
   "cell_type": "code",
   "execution_count": 8,
   "id": "89cee837",
   "metadata": {},
   "outputs": [],
   "source": [
    "#Read linear Regression Model's Accuracy\n",
    "def get_accuracy(num_wins_window, y_predict, y_actual):\n",
    "    # if number of wins predicted is within 5 of the actual number of wins \n",
    "    # then this will be marked as a \"success\"\n",
    "    # (for example if actual number of wins is 65, \"correct window\" is 60-70)\n",
    "    # this can easily be adjusted based on the users desired level of accuracy\n",
    "\n",
    "    round_y_predict = []\n",
    "\n",
    "    for i,y in enumerate(y_predict):\n",
    "        wins_diff = abs(y - y_actual[i])\n",
    "        if wins_diff <= num_wins_window:\n",
    "            match = True\n",
    "        else:\n",
    "            match = False\n",
    "        round_y_predict.append(match)\n",
    "\n",
    "        \n",
    "    # round_y_predict_arr = np.array(round_y_predict)\n",
    "    train_accuracy = calc_accuracy_rate(round_y_predict)\n",
    "\n",
    "    return train_accuracy\n",
    "\n",
    "\n"
   ]
  },
  {
   "cell_type": "code",
   "execution_count": 9,
   "id": "6c982f57",
   "metadata": {},
   "outputs": [
    {
     "name": "stdout",
     "output_type": "stream",
     "text": [
      "Exact Accuracy: 0.0\n",
      "Rate of correct wins within 3: 0.34328358208955223\n",
      "Rate of correct wins within 5: 0.5074626865671642\n",
      "Rate of correct wins within 10: 0.7910447761194029\n"
     ]
    }
   ],
   "source": [
    "train_accuracy_0 = get_accuracy(0,y_predict_train,y_train)\n",
    "print(\"Exact Accuracy:\",train_accuracy_0)\n",
    "\n",
    "train_accuracy_3 = get_accuracy(3,y_predict_train,y_train)\n",
    "print(\"Rate of correct wins within 3:\", train_accuracy_3)\n",
    "\n",
    "train_accuracy_5 = get_accuracy(5,y_predict_train,y_train)\n",
    "print(\"Rate of correct wins within 5:\", train_accuracy_5)\n",
    "\n",
    "train_accuracy_10 = get_accuracy(10,y_predict_train,y_train)\n",
    "print(\"Rate of correct wins within 10:\",train_accuracy_10)\n"
   ]
  },
  {
   "cell_type": "code",
   "execution_count": 10,
   "id": "4f553054",
   "metadata": {},
   "outputs": [
    {
     "name": "stdout",
     "output_type": "stream",
     "text": [
      "Exact Accuracy: 0.0\n",
      "Rate of correct wins within 1: 0.0\n",
      "Rate of correct wins within 3: 0.17391304347826086\n",
      "Rate of correct wins within 5: 0.43478260869565216\n",
      "Rate of correct wins within 10: 0.7391304347826086\n"
     ]
    }
   ],
   "source": [
    "test_accuracy_0 = get_accuracy(0,y_predict_test,y_test)\n",
    "print(\"Exact Accuracy:\",test_accuracy_0)\n",
    "\n",
    "test_accuracy_1 = get_accuracy(1,y_predict_test,y_test)\n",
    "print(\"Rate of correct wins within 1:\", test_accuracy_1)\n",
    "\n",
    "test_accuracy_3 = get_accuracy(3,y_predict_test,y_test)\n",
    "print(\"Rate of correct wins within 3:\", test_accuracy_3)\n",
    "\n",
    "test_accuracy_5 = get_accuracy(5,y_predict_test,y_test)\n",
    "print(\"Rate of correct wins within 5:\", test_accuracy_5)\n",
    "\n",
    "test_accuracy_10 = get_accuracy(10, y_predict_test,y_test)\n",
    "print(\"Rate of correct wins within 10:\", test_accuracy_10)"
   ]
  },
  {
   "cell_type": "markdown",
   "id": "266a5872",
   "metadata": {},
   "source": [
    "With all the variables, it is not nearly as accurate as the High Correlation experiments. This is a clear indication that we should only utilize models with those Variables."
   ]
  }
 ],
 "metadata": {
  "kernelspec": {
   "display_name": "Python 3",
   "language": "python",
   "name": "python3"
  },
  "language_info": {
   "codemirror_mode": {
    "name": "ipython",
    "version": 3
   },
   "file_extension": ".py",
   "mimetype": "text/x-python",
   "name": "python",
   "nbconvert_exporter": "python",
   "pygments_lexer": "ipython3",
   "version": "3.8.5"
  }
 },
 "nbformat": 4,
 "nbformat_minor": 5
}

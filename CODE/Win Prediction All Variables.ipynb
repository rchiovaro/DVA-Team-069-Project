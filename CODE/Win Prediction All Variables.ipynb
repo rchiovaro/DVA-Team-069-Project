{
 "cells": [
  {
   "cell_type": "code",
   "execution_count": 1,
   "id": "27874c88",
   "metadata": {},
   "outputs": [],
   "source": [
    "from sklearn.metrics import accuracy_score\n",
    "from sklearn.linear_model import LinearRegression\n",
    "import numpy as np"
   ]
  },
  {
   "cell_type": "markdown",
   "id": "9a40f033",
   "metadata": {},
   "source": [
    "# Read in Data"
   ]
  },
  {
   "cell_type": "code",
   "execution_count": 2,
   "id": "da7cfe4b",
   "metadata": {},
   "outputs": [
    {
     "name": "stdout",
     "output_type": "stream",
     "text": [
      "<class 'pandas.core.frame.DataFrame'>\n",
      "Int64Index: 120 entries, 0 to 119\n",
      "Data columns (total 54 columns):\n",
      " #   Column                                 Non-Null Count  Dtype  \n",
      "---  ------                                 --------------  -----  \n",
      " 0   abbreviation                           120 non-null    object \n",
      " 1   assists                                120 non-null    int64  \n",
      " 2   blocks                                 120 non-null    int64  \n",
      " 3   defensive_rebounds                     120 non-null    int64  \n",
      " 4   field_goal_attempts                    120 non-null    int64  \n",
      " 5   field_goal_percentage                  120 non-null    float64\n",
      " 6   field_goals                            120 non-null    int64  \n",
      " 7   free_throw_attempts                    120 non-null    int64  \n",
      " 8   free_throw_percentage                  120 non-null    float64\n",
      " 9   free_throws                            120 non-null    int64  \n",
      " 10  games_played                           120 non-null    int64  \n",
      " 11  minutes_played                         120 non-null    int64  \n",
      " 12  name                                   120 non-null    object \n",
      " 13  offensive_rebounds                     120 non-null    int64  \n",
      " 14  opp_assists                            120 non-null    int64  \n",
      " 15  opp_blocks                             120 non-null    int64  \n",
      " 16  opp_defensive_rebounds                 120 non-null    int64  \n",
      " 17  opp_field_goal_attempts                120 non-null    int64  \n",
      " 18  opp_field_goal_percentage              120 non-null    float64\n",
      " 19  opp_field_goals                        120 non-null    int64  \n",
      " 20  opp_free_throw_attempts                120 non-null    int64  \n",
      " 21  opp_free_throw_percentage              120 non-null    float64\n",
      " 22  opp_free_throws                        120 non-null    int64  \n",
      " 23  opp_offensive_rebounds                 120 non-null    int64  \n",
      " 24  opp_personal_fouls                     120 non-null    int64  \n",
      " 25  opp_points                             120 non-null    int64  \n",
      " 26  opp_steals                             120 non-null    int64  \n",
      " 27  opp_three_point_field_goal_attempts    120 non-null    int64  \n",
      " 28  opp_three_point_field_goal_percentage  120 non-null    float64\n",
      " 29  opp_three_point_field_goals            120 non-null    int64  \n",
      " 30  opp_total_rebounds                     120 non-null    int64  \n",
      " 31  opp_turnovers                          120 non-null    int64  \n",
      " 32  opp_two_point_field_goal_attempts      120 non-null    int64  \n",
      " 33  opp_two_point_field_goal_percentage    120 non-null    float64\n",
      " 34  opp_two_point_field_goals              120 non-null    int64  \n",
      " 35  personal_fouls                         120 non-null    int64  \n",
      " 36  points                                 120 non-null    int64  \n",
      " 37  rank                                   120 non-null    int64  \n",
      " 38  steals                                 120 non-null    int64  \n",
      " 39  three_point_field_goal_attempts        120 non-null    int64  \n",
      " 40  three_point_field_goal_percentage      120 non-null    float64\n",
      " 41  three_point_field_goals                120 non-null    int64  \n",
      " 42  total_rebounds                         120 non-null    int64  \n",
      " 43  turnovers                              120 non-null    int64  \n",
      " 44  two_point_field_goal_attempts          120 non-null    int64  \n",
      " 45  two_point_field_goal_percentage        120 non-null    float64\n",
      " 46  two_point_field_goals                  120 non-null    int64  \n",
      " 47  Season                                 120 non-null    int64  \n",
      " 48  W                                      120 non-null    int64  \n",
      " 49  L                                      120 non-null    int64  \n",
      " 50  W/L%                                   120 non-null    float64\n",
      " 51  PS/G                                   120 non-null    float64\n",
      " 52  PA/G                                   120 non-null    float64\n",
      " 53  SRS                                    120 non-null    float64\n",
      "dtypes: float64(12), int64(40), object(2)\n",
      "memory usage: 51.6+ KB\n"
     ]
    },
    {
     "name": "stderr",
     "output_type": "stream",
     "text": [
      "/Library/Frameworks/Python.framework/Versions/3.7/lib/python3.7/site-packages/scipy/stats/stats.py:4023: PearsonRConstantInputWarning: An input array is constant; the correlation coefficient is not defined.\n",
      "  warnings.warn(PearsonRConstantInputWarning())\n"
     ]
    }
   ],
   "source": [
    "%run \"Data Collection and Cleaning.ipynb\""
   ]
  },
  {
   "cell_type": "code",
   "execution_count": 3,
   "id": "091605a0",
   "metadata": {},
   "outputs": [],
   "source": [
    "#create dataframe with the high correlation columns, and split up into train and test data\n",
    "all_var_df = df_merged_train_data.copy()\n",
    "\n",
    "\n",
    "\n",
    "\n",
    "# y_data = all_var_df[\"W\"].values.reshape(-1, 1)\n",
    "# x_data = all_var_df[[\"abbreviation\",\"Season\",\"assists\", 'defensive_rebounds','field_goal_percentage',\\\n",
    "#         'field_goals','opp_assists', 'opp_blocks','opp_defensive_rebounds', 'opp_field_goal_percentage',\\\n",
    "#         'opp_points','opp_three_point_field_goal_percentage','opp_total_rebounds','opp_two_point_field_goal_percentage',\\\n",
    "#         'points', 'three_point_field_goal_percentage', 'total_rebounds','two_point_field_goal_percentage']]\\\n",
    "#         .set_index(['abbreviation', 'Season'])\n",
    "\n",
    "\n",
    "# x_train, x_test, y_train, y_test = train_test_split(x_data, y_data, random_state = 42)\n",
    "\n"
   ]
  },
  {
   "cell_type": "code",
   "execution_count": 4,
   "id": "7171a213",
   "metadata": {},
   "outputs": [],
   "source": [
    "relevant_cols = [\"abbreviation\",\"Season\",\"assists\", 'defensive_rebounds','field_goal_percentage',\\\n",
    "                'field_goals','opp_assists', 'opp_blocks','opp_defensive_rebounds', 'opp_field_goal_percentage',\\\n",
    "                'opp_points','opp_three_point_field_goal_percentage','opp_total_rebounds','opp_two_point_field_goal_percentage',\\\n",
    "                'points', 'three_point_field_goal_percentage', 'total_rebounds','two_point_field_goal_percentage', 'W']\n",
    "\n",
    "train, test = all_var_df[0:0], all_var_df[0:0] \n",
    "for team in all_var_df.abbreviation.unique():\n",
    "    \n",
    "    r_season = int(np.random.randint(2017, 2020))\n",
    "#     print(team, r_season)\n",
    "    \n",
    "    temp_train = all_var_df[(all_var_df.Season != r_season) & (all_var_df.abbreviation == team)]\n",
    "    temp_test = all_var_df[(all_var_df.Season == r_season) & (all_var_df.abbreviation == team)]\n",
    "    \n",
    "    train = train.append(temp_train)\n",
    "    test = test.append(temp_test)\n",
    "    \n",
    "train = train.sample(train.shape[0])\n",
    "test = test.sample(test.shape[0])\n",
    "\n",
    "x_train = train[relevant_cols].set_index(['abbreviation', 'Season']).drop(\"W\", axis = 1)\n",
    "y_train = train[\"W\"].values.reshape(-1, 1)\n",
    "\n",
    "x_test = test[relevant_cols].set_index(['abbreviation', 'Season']).drop(\"W\", axis = 1)\n",
    "y_test = test[\"W\"].values.reshape(-1, 1)"
   ]
  },
  {
   "cell_type": "code",
   "execution_count": 5,
   "id": "b5a93a5f",
   "metadata": {},
   "outputs": [],
   "source": [
    "#Train Linear Rregression Model\n",
    "regr = LinearRegression().fit(x_train, y_train)\n",
    "\n",
    "y_predict_train = regr.predict(x_train)\n",
    "y_predict_test = regr.predict(x_test)"
   ]
  },
  {
   "cell_type": "markdown",
   "id": "576fb081",
   "metadata": {},
   "source": [
    "Since sklearn accuracy function is based on exact matches, it is tough to use the accuracy_score function since it will compare a decimal to an integer. So we will test in two different ways. The first test will be by rounding to the nearest integer, and comparing that result using the accuracy score. The seconcd test will be to get the rate of wins within X of the true value, where X is user defined."
   ]
  },
  {
   "cell_type": "markdown",
   "id": "ddf71443",
   "metadata": {},
   "source": [
    "Test #1"
   ]
  },
  {
   "cell_type": "code",
   "execution_count": 6,
   "id": "714a7a5d",
   "metadata": {},
   "outputs": [],
   "source": [
    "def rounded_accuracy(y_actual, y_pred):\n",
    "    round_y_predict = []\n",
    "\n",
    "    for y in y_pred:\n",
    "        rounded_y = round(float(y))\n",
    "        round_y_predict.append(rounded_y)\n",
    "        \n",
    "    round_y_predict_arr = np.array(round_y_predict)\n",
    "    accuracy_sc = accuracy_score(y_actual, round_y_predict_arr)\n",
    "\n",
    "    return accuracy_sc"
   ]
  },
  {
   "cell_type": "code",
   "execution_count": 7,
   "id": "ace931fa",
   "metadata": {},
   "outputs": [
    {
     "name": "stdout",
     "output_type": "stream",
     "text": [
      "Training Accuracy based on rounded:  0.06666666666666667\n",
      "Test Accuracy based on rounded:  0.06666666666666667\n"
     ]
    }
   ],
   "source": [
    "train_accuracy = rounded_accuracy(y_train,y_predict_train)\n",
    "print(\"Training Accuracy based on rounded: \",train_accuracy)\n",
    "\n",
    "test_accuracy = rounded_accuracy(y_test,y_predict_test)\n",
    "print(\"Test Accuracy based on rounded: \",test_accuracy)"
   ]
  },
  {
   "cell_type": "markdown",
   "id": "93f3c543",
   "metadata": {},
   "source": [
    "Test #2"
   ]
  },
  {
   "cell_type": "code",
   "execution_count": 8,
   "id": "c3f0919a",
   "metadata": {},
   "outputs": [],
   "source": [
    "def calc_accuracy_rate(match_bool):\n",
    "    true_count = 0\n",
    "    total_matches = len(match_bool)\n",
    "    for match in match_bool:\n",
    "        if match:\n",
    "            true_count += 1\n",
    "\n",
    "    return true_count / total_matches"
   ]
  },
  {
   "cell_type": "code",
   "execution_count": 9,
   "id": "89cee837",
   "metadata": {},
   "outputs": [],
   "source": [
    "#Read linear Regression Model's Accuracy\n",
    "def get_accuracy(num_wins_window, y_predict, y_actual):\n",
    "    # if number of wins predicted is within 5 of the actual number of wins \n",
    "    # then this will be marked as a \"success\"\n",
    "    # (for example if actual number of wins is 65, \"correct window\" is 60-70)\n",
    "    # this can easily be adjusted based on the users desired level of accuracy\n",
    "\n",
    "    round_y_predict = []\n",
    "\n",
    "    for i,y in enumerate(y_predict):\n",
    "        wins_diff = abs(y - y_actual[i])\n",
    "        if wins_diff <= num_wins_window:\n",
    "            match = True\n",
    "        else:\n",
    "            match = False\n",
    "        round_y_predict.append(match)\n",
    "\n",
    "        \n",
    "    # round_y_predict_arr = np.array(round_y_predict)\n",
    "    train_accuracy = calc_accuracy_rate(round_y_predict)\n",
    "\n",
    "    return train_accuracy\n",
    "\n",
    "\n"
   ]
  },
  {
   "cell_type": "code",
   "execution_count": 10,
   "id": "6c982f57",
   "metadata": {},
   "outputs": [
    {
     "name": "stdout",
     "output_type": "stream",
     "text": [
      "Exact Accuracy: 0.0\n",
      "Rate of correct wins within 3: 0.2833333333333333\n",
      "Rate of correct wins within 5: 0.45\n",
      "Rate of correct wins within 10: 0.7666666666666667\n"
     ]
    }
   ],
   "source": [
    "train_accuracy_0 = get_accuracy(0,y_predict_train,y_train)\n",
    "print(\"Exact Accuracy:\",train_accuracy_0)\n",
    "\n",
    "train_accuracy_3 = get_accuracy(3,y_predict_train,y_train)\n",
    "print(\"Rate of correct wins within 3:\", train_accuracy_3)\n",
    "\n",
    "train_accuracy_5 = get_accuracy(5,y_predict_train,y_train)\n",
    "print(\"Rate of correct wins within 5:\", train_accuracy_5)\n",
    "\n",
    "train_accuracy_10 = get_accuracy(10,y_predict_train,y_train)\n",
    "print(\"Rate of correct wins within 10:\",train_accuracy_10)\n"
   ]
  },
  {
   "cell_type": "code",
   "execution_count": 11,
   "id": "4f553054",
   "metadata": {},
   "outputs": [
    {
     "name": "stdout",
     "output_type": "stream",
     "text": [
      "Exact Accuracy: 0.0\n",
      "Rate of correct wins within 1: 0.06666666666666667\n",
      "Rate of correct wins within 3: 0.3\n",
      "Rate of correct wins within 5: 0.4\n",
      "Rate of correct wins within 10: 0.7333333333333333\n"
     ]
    }
   ],
   "source": [
    "test_accuracy_0 = get_accuracy(0,y_predict_test,y_test)\n",
    "print(\"Exact Accuracy:\",test_accuracy_0)\n",
    "\n",
    "test_accuracy_1 = get_accuracy(1,y_predict_test,y_test)\n",
    "print(\"Rate of correct wins within 1:\", test_accuracy_1)\n",
    "\n",
    "test_accuracy_3 = get_accuracy(3,y_predict_test,y_test)\n",
    "print(\"Rate of correct wins within 3:\", test_accuracy_3)\n",
    "\n",
    "test_accuracy_5 = get_accuracy(5,y_predict_test,y_test)\n",
    "print(\"Rate of correct wins within 5:\", test_accuracy_5)\n",
    "\n",
    "test_accuracy_10 = get_accuracy(10, y_predict_test,y_test)\n",
    "print(\"Rate of correct wins within 10:\", test_accuracy_10)"
   ]
  }
 ],
 "metadata": {
  "kernelspec": {
   "display_name": "Python 3",
   "language": "python",
   "name": "python3"
  },
  "language_info": {
   "codemirror_mode": {
    "name": "ipython",
    "version": 3
   },
   "file_extension": ".py",
   "mimetype": "text/x-python",
   "name": "python",
   "nbconvert_exporter": "python",
   "pygments_lexer": "ipython3",
   "version": "3.7.2"
  }
 },
 "nbformat": 4,
 "nbformat_minor": 5
}
